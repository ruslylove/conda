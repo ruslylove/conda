{
 "cells": [
  {
   "cell_type": "markdown",
   "metadata": {},
   "source": [
    "## Example of image processing for detection of strains on granite stones"
   ]
  },
  {
   "cell_type": "code",
   "execution_count": 4,
   "metadata": {
    "slideshow": {
     "slide_type": "slide"
    },
    "tags": [
     "hide-input"
    ]
   },
   "outputs": [],
   "source": [
    "from __future__ import print_function\n",
    "from ipywidgets import interact, interactive, fixed, interact_manual\n",
    "import ipywidgets as widgets\n",
    "import cv2\n",
    "import numpy as np\n",
    "from matplotlib import pyplot as plt\n",
    "\n",
    "plt.rcParams[\"figure.figsize\"] = (20,10)\n"
   ]
  },
  {
   "cell_type": "code",
   "execution_count": 5,
   "metadata": {},
   "outputs": [
    {
     "data": {
      "application/javascript": [
       "IPython.OutputArea.auto_scroll_threshold = 9999;\n"
      ],
      "text/plain": [
       "<IPython.core.display.Javascript object>"
      ]
     },
     "metadata": {},
     "output_type": "display_data"
    }
   ],
   "source": [
    "%%javascript\n",
    "IPython.OutputArea.auto_scroll_threshold = 9999;"
   ]
  },
  {
   "cell_type": "markdown",
   "metadata": {},
   "source": [
    "### Experiment 1: Using a simple average filter.\n",
    "![title](stone-test.jpg)"
   ]
  },
  {
   "cell_type": "markdown",
   "metadata": {},
   "source": [
    "#### input image parameters:\n",
    "- 0%,25%,50%,75%,100% of strain intensity"
   ]
  },
  {
   "cell_type": "markdown",
   "metadata": {},
   "source": [
    "####  experimental parameters:\n",
    "- average filter size: 1..200\n",
    "- binary threshold: 0..1 "
   ]
  },
  {
   "cell_type": "markdown",
   "metadata": {},
   "source": [
    "1. Pre-processing: Histotram Equilisation"
   ]
  },
  {
   "cell_type": "code",
   "execution_count": 16,
   "metadata": {
    "scrolled": true
   },
   "outputs": [
    {
     "data": {
      "application/vnd.jupyter.widget-view+json": {
       "model_id": "aacd47edde8b4a0eb470398619734d5a",
       "version_major": 2,
       "version_minor": 0
      },
      "text/plain": [
       "interactive(children=(Dropdown(description='file', options=('grey-granite-background.jpg', 'grey-granite-kmutn…"
      ]
     },
     "metadata": {},
     "output_type": "display_data"
    },
    {
     "data": {
      "text/plain": [
       "<function __main__.f(file)>"
      ]
     },
     "execution_count": 16,
     "metadata": {},
     "output_type": "execute_result"
    }
   ],
   "source": [
    "file_name = ['grey-granite-background.jpg', 'grey-granite-kmutnb-25.jpg', 'grey-granite-kmutnb-50.jpg', 'grey-granite-kmutnb-75.jpg', 'grey-granite-kmutnb-100.jpg']\n",
    "\n",
    "def f(file):\n",
    "    img = cv2.imread(file,2)\n",
    "    equ = cv2.equalizeHist(img)\n",
    "\n",
    "    plt.subplot(131),plt.imshow(img,cmap='gray', vmin=0, vmax=255),plt.title(file)\n",
    "    plt.subplot(132),plt.imshow(equ,cmap='gray', vmin=0, vmax=255),plt.title('Hist Equ')\n",
    "    \n",
    "interact(f, file=file_name)\n",
    "\n"
   ]
  },
  {
   "cell_type": "markdown",
   "metadata": {},
   "source": [
    "2. 2D Average filter"
   ]
  },
  {
   "cell_type": "code",
   "execution_count": 17,
   "metadata": {
    "scrolled": true
   },
   "outputs": [
    {
     "data": {
      "application/vnd.jupyter.widget-view+json": {
       "model_id": "f701370190b5458fa3ccdcff39aee24f",
       "version_major": 2,
       "version_minor": 0
      },
      "text/plain": [
       "interactive(children=(Dropdown(description='file', options=('grey-granite-background.jpg', 'grey-granite-kmutn…"
      ]
     },
     "metadata": {},
     "output_type": "display_data"
    }
   ],
   "source": [
    "def img_filter(file,size=40):\n",
    "    \n",
    "    img = cv2.imread(file,2)\n",
    "    equ = cv2.equalizeHist(img)\n",
    "    \n",
    "    kernel = np.ones((size,size),np.float32)/(size*size)\n",
    "    dst = cv2.filter2D(equ,-1,kernel)\n",
    "    plt.subplot(131),plt.imshow(dst,cmap='gray', vmin=0, vmax=255),plt.title('Averaging')\n",
    "    \n",
    "interact(img_filter,file=file_name, size=(1,200,1));\n",
    "\n"
   ]
  },
  {
   "cell_type": "markdown",
   "metadata": {},
   "source": [
    "3. Binary Imaging"
   ]
  },
  {
   "cell_type": "code",
   "execution_count": 19,
   "metadata": {},
   "outputs": [
    {
     "data": {
      "application/vnd.jupyter.widget-view+json": {
       "model_id": "f7f387d98b764620a8b37da32ff384f3",
       "version_major": 2,
       "version_minor": 0
      },
      "text/plain": [
       "interactive(children=(Dropdown(description='file', options=('grey-granite-background.jpg', 'grey-granite-kmutn…"
      ]
     },
     "metadata": {},
     "output_type": "display_data"
    }
   ],
   "source": [
    "def binarize(file,size=40,t=0.4):\n",
    "    \n",
    "    img = cv2.imread(file,2)\n",
    "    equ = cv2.equalizeHist(img)\n",
    "    \n",
    "    kernel = np.ones((size,size),np.float32)/(size*size)\n",
    "    dst = cv2.filter2D(equ,-1,kernel)\n",
    "    \n",
    "    binary_img = (dst>=t*255)*1\n",
    "    \n",
    "    plt.subplot(131),plt.imshow(img,cmap='gray', vmin=0, vmax=255),plt.title(file)\n",
    "    plt.subplot(132),plt.imshow(dst,cmap='gray', vmin=0, vmax=255),plt.title('Averaging')\n",
    "    plt.subplot(133),plt.imshow(binary_img),plt.title('Binary')\n",
    "    plt.show()\n",
    "\n",
    "interact(binarize,file=file_name, size=(1,200,1), t=(0,1,0.01));\n"
   ]
  },
  {
   "cell_type": "code",
   "execution_count": null,
   "metadata": {},
   "outputs": [],
   "source": []
  },
  {
   "cell_type": "code",
   "execution_count": null,
   "metadata": {},
   "outputs": [],
   "source": []
  }
 ],
 "metadata": {
  "kernelspec": {
   "display_name": "Python 3",
   "language": "python",
   "name": "python3"
  },
  "language_info": {
   "codemirror_mode": {
    "name": "ipython",
    "version": 3
   },
   "file_extension": ".py",
   "mimetype": "text/x-python",
   "name": "python",
   "nbconvert_exporter": "python",
   "pygments_lexer": "ipython3",
   "version": "3.8.3"
  }
 },
 "nbformat": 4,
 "nbformat_minor": 4
}
