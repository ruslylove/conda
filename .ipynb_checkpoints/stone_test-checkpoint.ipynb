{
 "cells": [
  {
   "cell_type": "markdown",
   "metadata": {},
   "source": [
    "## Example of image processing for detection of strains on granite stones"
   ]
  },
  {
   "cell_type": "code",
   "execution_count": 1,
   "metadata": {
    "slideshow": {
     "slide_type": "slide"
    },
    "tags": [
     "hide-input"
    ]
   },
   "outputs": [],
   "source": [
    "from __future__ import print_function\n",
    "from ipywidgets import interact, interactive, fixed, interact_manual\n",
    "import ipywidgets as widgets\n",
    "import cv2\n",
    "import numpy as np\n",
    "from matplotlib import pyplot as plt\n",
    "\n",
    "plt.rcParams[\"figure.figsize\"] = (20,10)\n"
   ]
  },
  {
   "cell_type": "code",
   "execution_count": 2,
   "metadata": {},
   "outputs": [
    {
     "data": {
      "application/javascript": [
       "IPython.OutputArea.auto_scroll_threshold = 9999;\n"
      ],
      "text/plain": [
       "<IPython.core.display.Javascript object>"
      ]
     },
     "metadata": {},
     "output_type": "display_data"
    }
   ],
   "source": [
    "%%javascript\n",
    "IPython.OutputArea.auto_scroll_threshold = 9999;"
   ]
  },
  {
   "cell_type": "markdown",
   "metadata": {},
   "source": [
    "### Using a simple average filter with variable size and threshold"
   ]
  },
  {
   "cell_type": "markdown",
   "metadata": {},
   "source": [
    "1. Histotram Equilisation"
   ]
  },
  {
   "cell_type": "code",
   "execution_count": 12,
   "metadata": {
    "scrolled": true
   },
   "outputs": [
    {
     "data": {
      "application/vnd.jupyter.widget-view+json": {
       "model_id": "beeee97579c94a47aa4e8a1aec7c17a7",
       "version_major": 2,
       "version_minor": 0
      },
      "text/plain": [
       "interactive(children=(Dropdown(description='file', options=('grey-granite-background.jpg', 'grey-granite-kmutn…"
      ]
     },
     "metadata": {},
     "output_type": "display_data"
    }
   ],
   "source": [
    "\n",
    "def f(file):\n",
    "    img = cv2.imread(file,2)\n",
    "    equ = cv2.equalizeHist(img)\n",
    "\n",
    "    plt.subplot(131),plt.imshow(img,cmap='gray', vmin=0, vmax=255),plt.title(file)\n",
    "    plt.subplot(132),plt.imshow(equ,cmap='gray', vmin=0, vmax=255),plt.title('Hist Equ')\n",
    "    \n",
    "    return img,equ\n",
    "\n",
    "w = interactive(f, file=['grey-granite-background.jpg', 'grey-granite-kmutnb-25.jpg', 'grey-granite-kmutnb-50.jpg', 'grey-granite-kmutnb-75.jpg', 'grey-granite-kmutnb-100.jpg'])\n",
    "display(w)\n",
    "img,equ = w.result"
   ]
  },
  {
   "cell_type": "markdown",
   "metadata": {},
   "source": [
    "2. Area averaging"
   ]
  },
  {
   "cell_type": "code",
   "execution_count": 13,
   "metadata": {
    "scrolled": true
   },
   "outputs": [
    {
     "data": {
      "application/vnd.jupyter.widget-view+json": {
       "model_id": "1cef4344faf944a7bec19783f15c68f7",
       "version_major": 2,
       "version_minor": 0
      },
      "text/plain": [
       "interactive(children=(IntSlider(value=40, description='size', max=200, min=1), Output()), _dom_classes=('widge…"
      ]
     },
     "metadata": {},
     "output_type": "display_data"
    }
   ],
   "source": [
    "def img_filter(size=40):\n",
    "    \n",
    "    kernel = np.ones((size,size),np.float32)/(size*size)\n",
    "    dst = cv2.filter2D(equ,-1,kernel)\n",
    "    plt.subplot(131),plt.imshow(dst,cmap='gray', vmin=0, vmax=255),plt.title('Averaging')\n",
    "    return dst\n",
    "    \n",
    "   \n",
    "w = interactive(img_filter, size=(1,200,1));\n",
    "display(w)\n",
    "dst = w.result\n"
   ]
  },
  {
   "cell_type": "markdown",
   "metadata": {},
   "source": [
    "3. Binary Imaging"
   ]
  },
  {
   "cell_type": "code",
   "execution_count": 7,
   "metadata": {},
   "outputs": [
    {
     "data": {
      "application/vnd.jupyter.widget-view+json": {
       "model_id": "193c6e258017401a98e97b9adf424d88",
       "version_major": 2,
       "version_minor": 0
      },
      "text/plain": [
       "interactive(children=(FloatSlider(value=0.4, description='t', max=1.0, step=0.01), Output()), _dom_classes=('w…"
      ]
     },
     "metadata": {},
     "output_type": "display_data"
    }
   ],
   "source": [
    "def binarize(t=0.4):\n",
    "    binary_img = (dst>=t*255)*1\n",
    "    plt.subplot(133),plt.imshow(binary_img),plt.title('Binary')\n",
    "    plt.show()\n",
    "\n",
    "w = interactive(binarize, t=(0,1,0.01));\n",
    "display(w)"
   ]
  },
  {
   "cell_type": "code",
   "execution_count": null,
   "metadata": {},
   "outputs": [],
   "source": []
  },
  {
   "cell_type": "code",
   "execution_count": null,
   "metadata": {},
   "outputs": [],
   "source": []
  }
 ],
 "metadata": {
  "kernelspec": {
   "display_name": "Python 3",
   "language": "python",
   "name": "python3"
  },
  "language_info": {
   "codemirror_mode": {
    "name": "ipython",
    "version": 3
   },
   "file_extension": ".py",
   "mimetype": "text/x-python",
   "name": "python",
   "nbconvert_exporter": "python",
   "pygments_lexer": "ipython3",
   "version": "3.8.3"
  }
 },
 "nbformat": 4,
 "nbformat_minor": 4
}
