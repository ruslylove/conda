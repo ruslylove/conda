{
 "cells": [
  {
   "cell_type": "markdown",
   "metadata": {},
   "source": [
    "## Example of image processing for detection of strains on granite stones"
   ]
  },
  {
   "cell_type": "code",
   "execution_count": 69,
   "metadata": {},
   "outputs": [],
   "source": [
    "from __future__ import print_function\n",
    "from ipywidgets import interact, interactive, fixed, interact_manual\n",
    "import ipywidgets as widgets\n",
    "\n",
    "menu = widgets.Dropdown(\n",
    "       options=['grey-granite-background.jpg', 'grey-granite-kmutnb-25.jpg', 'grey-granite-kmutnb-50.jpg', 'grey-granite-kmutnb-75.jpg', 'grey-granite-kmutnb-100.jpg'],\n",
    "       value='grey-granite-background.jpg',\n",
    "       description='File:')"
   ]
  },
  {
   "cell_type": "code",
   "execution_count": 71,
   "metadata": {},
   "outputs": [
    {
     "data": {
      "application/javascript": [
       "IPython.OutputArea.auto_scroll_threshold = 9999;\n"
      ],
      "text/plain": [
       "<IPython.core.display.Javascript object>"
      ]
     },
     "metadata": {},
     "output_type": "display_data"
    }
   ],
   "source": [
    "%%javascript\n",
    "IPython.OutputArea.auto_scroll_threshold = 9999;"
   ]
  },
  {
   "cell_type": "markdown",
   "metadata": {},
   "source": [
    "### Using a simple average filter with variable size and threshold"
   ]
  },
  {
   "cell_type": "code",
   "execution_count": 74,
   "metadata": {},
   "outputs": [
    {
     "data": {
      "application/vnd.jupyter.widget-view+json": {
       "model_id": "cde7948afccf42cd9de65cf2926a3006",
       "version_major": 2,
       "version_minor": 0
      },
      "text/plain": [
       "Dropdown(description='File:', index=4, options=('grey-granite-background.jpg', 'grey-granite-kmutnb-25.jpg', '…"
      ]
     },
     "metadata": {},
     "output_type": "display_data"
    }
   ],
   "source": [
    "menu"
   ]
  },
  {
   "cell_type": "code",
   "execution_count": 75,
   "metadata": {
    "scrolled": false
   },
   "outputs": [
    {
     "data": {
      "application/vnd.jupyter.widget-view+json": {
       "model_id": "5204f6068d484654a7bb6ed9712f3d9e",
       "version_major": 2,
       "version_minor": 0
      },
      "text/plain": [
       "interactive(children=(IntSlider(value=40, description='size', min=1), FloatSlider(value=0.4, description='t', …"
      ]
     },
     "metadata": {},
     "output_type": "display_data"
    }
   ],
   "source": [
    "import cv2\n",
    "import numpy as np\n",
    "from matplotlib import pyplot as plt\n",
    "import ipywidgets as widgets\n",
    "\n",
    "\n",
    "\n",
    "plt.rcParams[\"figure.figsize\"] = (20,10)\n",
    "\n",
    "\n",
    "def img_filter(size=40,t=0.4):\n",
    "    img = cv2.imread(menu.value,2)\n",
    "\n",
    "    equ = cv2.equalizeHist(img)\n",
    "\n",
    "    kernel = np.ones((size,size),np.float32)/(size*size)\n",
    "    dst = cv2.filter2D(equ,-1,kernel)\n",
    "\n",
    "    plt.subplot(131),plt.imshow(img,cmap='gray', vmin=0, vmax=255),plt.title(menu.value)\n",
    "    \n",
    "    plt.subplot(132),plt.imshow(dst,cmap='gray', vmin=0, vmax=255),plt.title('Averaging')\n",
    "    \n",
    "    \n",
    "    binary_img = (dst>=t*255)*1\n",
    "    plt.subplot(133),plt.imshow(binary_img),plt.title('Binary')\n",
    "    plt.show()\n",
    "   \n",
    "interact(img_filter, size=(1,100,1),t=(0,1,0.01));"
   ]
  }
 ],
 "metadata": {
  "kernelspec": {
   "display_name": "Python 3",
   "language": "python",
   "name": "python3"
  },
  "language_info": {
   "codemirror_mode": {
    "name": "ipython",
    "version": 3
   },
   "file_extension": ".py",
   "mimetype": "text/x-python",
   "name": "python",
   "nbconvert_exporter": "python",
   "pygments_lexer": "ipython3",
   "version": "3.8.3"
  }
 },
 "nbformat": 4,
 "nbformat_minor": 4
}
